{
 "cells": [
  {
   "attachments": {},
   "cell_type": "markdown",
   "metadata": {},
   "source": [
    "2.5 Clumpy testing errors"
   ]
  },
  {
   "cell_type": "code",
   "execution_count": 1,
   "metadata": {},
   "outputs": [],
   "source": [
    "import numpy as np\n",
    "import pandas as pd\n",
    "from matplotlib import pyplot as plt"
   ]
  },
  {
   "cell_type": "code",
   "execution_count": 15,
   "metadata": {},
   "outputs": [],
   "source": [
    "df = pd.read_csv('abalone.data', header=None, names=['Sex', 'Length', 'Diameter', 'Height', 'Whole weight', 'Shucked weight', 'Viscera weight', 'Shell weight', 'Rings'])\n",
    "df = pd.get_dummies(df, columns=['Sex'])\n",
    "N = len(df)\n",
    "#df.isna().any()  # df has no NA entry"
   ]
  },
  {
   "cell_type": "code",
   "execution_count": 34,
   "metadata": {},
   "outputs": [],
   "source": [
    "def p_val(t_statistic, dof):\n",
    "    from scipy.stats import t \n",
    "    return 2 * t.cdf(-np.abs(t_statistic), dof)\n",
    "\n",
    "def t_test(rho, alpha=.05):  # alpha rejection level\n",
    "    x = np.random.multivariate_normal(np.zeros(2), np.array([[1, rho], [rho, 1]]), N)\n",
    "    noise = pd.DataFrame(x, columns=['x1', 'x2'])\n",
    "    noisy_df = pd.concat([noise, df], axis=1)\n",
    "    X = noisy_df.drop('Rings', axis=1).to_numpy()\n",
    "    y = noisy_df['Rings'].to_numpy()\n",
    "    beta_hat = np.linalg.solve(X.T @ X, X.T @ y)\n",
    "    n, d = X.shape\n",
    "    S = np.sqrt(1 / (n - d) * np.linalg.norm(y - X @ beta_hat, ord=2) ** 2)\n",
    "    t1 = beta_hat[0] / S / np.sqrt(np.linalg.inv(X.T @ X)[0,0])\n",
    "    t2 = beta_hat[1] / S / np.sqrt(np.linalg.inv(X.T @ X)[1,1])\n",
    "    r1 = p_val(t1, n-d) < alpha\n",
    "    r2 = p_val(t2, n-d) < alpha\n",
    "    return r1, r2, r1 & r2"
   ]
  },
  {
   "cell_type": "code",
   "execution_count": 59,
   "metadata": {},
   "outputs": [],
   "source": [
    "fd_counts = np.zeros((3,7))  # false discovery counts\n",
    "for i, rho in enumerate([-.9,-.8,-.4,0,.4,.8,.9]):\n",
    "    for _ in range(1000):\n",
    "        fd_counts[:,i] += t_test(rho)"
   ]
  },
  {
   "cell_type": "code",
   "execution_count": 60,
   "metadata": {},
   "outputs": [
    {
     "data": {
      "text/plain": [
       "array([[0.041, 0.053, 0.049, 0.052, 0.062, 0.043, 0.056],\n",
       "       [0.049, 0.06 , 0.053, 0.056, 0.056, 0.041, 0.049],\n",
       "       [0.022, 0.022, 0.007, 0.005, 0.007, 0.016, 0.027]])"
      ]
     },
     "execution_count": 60,
     "metadata": {},
     "output_type": "execute_result"
    }
   ],
   "source": [
    "fd_counts / 1000"
   ]
  },
  {
   "attachments": {},
   "cell_type": "markdown",
   "metadata": {},
   "source": [
    "Individually, both x1 and x2 are rejected $\\alpha=0.05$ fraction of the time.\n",
    "\n",
    "When x1 and x2 are more correlated, the chance that they are both rejected grows."
   ]
  }
 ],
 "metadata": {
  "kernelspec": {
   "display_name": "Python 3.9.6 64-bit",
   "language": "python",
   "name": "python3"
  },
  "language_info": {
   "codemirror_mode": {
    "name": "ipython",
    "version": 3
   },
   "file_extension": ".py",
   "mimetype": "text/x-python",
   "name": "python",
   "nbconvert_exporter": "python",
   "pygments_lexer": "ipython3",
   "version": "3.10.9"
  },
  "orig_nbformat": 4,
  "vscode": {
   "interpreter": {
    "hash": "31f2aee4e71d21fbe5cf8b01ff0e069b9275f58929596ceb00d14d90e3e16cd6"
   }
  }
 },
 "nbformat": 4,
 "nbformat_minor": 2
}
