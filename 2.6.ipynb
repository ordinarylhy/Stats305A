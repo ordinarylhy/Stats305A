{
 "cells": [
  {
   "attachments": {},
   "cell_type": "markdown",
   "metadata": {},
   "source": [
    "2.6\n",
    "\n",
    "(a)\n",
    "\n",
    "Investigate a wide range of problems and compare average performance.\n",
    "\n",
    "(b)\n",
    "\n",
    "$R_{ijk}$ is linear.\n",
    "\n",
    "(c)\n",
    "\n",
    "$\\phi(x) = \\log_2 (x)$\n",
    "\n",
    "(d)\n",
    "\n",
    "(e)\n",
    "\n",
    "$T:= \\frac{\\hat{\\alpha_1} - \\hat{\\alpha_i}-\\alpha_1 +\\alpha_i}{S\\sqrt{2/np}} \\sim T_{N-mp}$\n",
    "\n",
    "(f)\n",
    "\n",
    "(g)\n",
    "\n",
    "$\\sum_{jk} B_{jk}\\sim\\text{Binomial}(np, \\frac{1}{2}) $"
   ]
  },
  {
   "cell_type": "code",
   "execution_count": 29,
   "metadata": {},
   "outputs": [],
   "source": [
    "# (h)\n",
    "import numpy as np\n",
    "import pandas as pd\n",
    "from matplotlib import pyplot as plt\n",
    "from scipy.stats import t, binom"
   ]
  },
  {
   "cell_type": "code",
   "execution_count": 41,
   "metadata": {},
   "outputs": [],
   "source": [
    "df = pd.read_csv('runtimes.csv')\n",
    "df = df.sort_values(by=['alg.name', 'prob.ind']) # sort data\n",
    "m = df['alg.name'].nunique()\n",
    "p = df['prob.ind'].nunique()\n",
    "N = df.shape[0] \n",
    "n = int(N / (m * p))\n",
    "R = df['runtime'].values\n",
    "Y = np.log2(R)\n",
    "alg_name = list(df['alg.name'].unique())"
   ]
  },
  {
   "cell_type": "code",
   "execution_count": 36,
   "metadata": {},
   "outputs": [
    {
     "name": "stdout",
     "output_type": "stream",
     "text": [
      "p value for H_{0, i}: 2.587548047635341e-41\n",
      "p value for H_{0, i}: 1.3242255409588422e-17\n",
      "p value for H_{0, i}: 0.7199288022118624\n",
      "p value for H_{0, i}: 4.260513918785627e-26\n"
     ]
    }
   ],
   "source": [
    "# test in (e)\n",
    "mu_hat = np.mean(Y)\n",
    "alpha_1_hat = np.mean(Y[df['alg.name']==alg_name[0]]) - mu_hat\n",
    "Y_ij_mean =  np.repeat([np.mean(Y[l * n: (l + 1) * n]) for l in range(m * p)], n)\n",
    "S_sq = 1 / (N - m * p) * np.sum((Y - Y_ij_mean) ** 2)\n",
    "for i in range(1, m):\n",
    "    alpha_i_hat = np.mean(Y[df['alg.name']==alg_name[i]]) - mu_hat\n",
    "    T = (alpha_1_hat - alpha_i_hat) / np.sqrt(S_sq *  2 / (n * p))\n",
    "    p_val = t.cdf(T, N - m * p) # one-tailed test \\alpha_1 >= \\alpha_i\n",
    "    print('p value for H_{0, i}:', p_val)"
   ]
  },
  {
   "cell_type": "code",
   "execution_count": 35,
   "metadata": {},
   "outputs": [
    {
     "name": "stdout",
     "output_type": "stream",
     "text": [
      "p value for H_{0, i}: 0.0\n",
      "p value for H_{0, i}: 0.0\n",
      "p value for H_{0, i}: 0.012090991236631377\n",
      "p value for H_{0, i}: 0.0\n"
     ]
    }
   ],
   "source": [
    "# test in (g)\n",
    "for i in range(1, m):\n",
    "    B_jk = R[df['alg.name'] == alg_name[0]] <= R[df['alg.name'] == alg_name[i]]\n",
    "    p_val = 1 - binom.cdf(np.sum(B_jk), n * p, 0.5) # one-tailed test P(R_1 \\leq R_i) \\leq 0.5\n",
    "    print('p value for H_{0, i}:', p_val)"
   ]
  }
 ],
 "metadata": {
  "kernelspec": {
   "display_name": "Python 3.9.6 64-bit",
   "language": "python",
   "name": "python3"
  },
  "language_info": {
   "codemirror_mode": {
    "name": "ipython",
    "version": 3
   },
   "file_extension": ".py",
   "mimetype": "text/x-python",
   "name": "python",
   "nbconvert_exporter": "python",
   "pygments_lexer": "ipython3",
   "version": "3.10.9"
  },
  "orig_nbformat": 4,
  "vscode": {
   "interpreter": {
    "hash": "31f2aee4e71d21fbe5cf8b01ff0e069b9275f58929596ceb00d14d90e3e16cd6"
   }
  }
 },
 "nbformat": 4,
 "nbformat_minor": 2
}
