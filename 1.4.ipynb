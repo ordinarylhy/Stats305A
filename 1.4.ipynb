{
 "cells": [
  {
   "attachments": {},
   "cell_type": "markdown",
   "metadata": {},
   "source": [
    "1.4 Predicting high temperatures at SFO"
   ]
  },
  {
   "cell_type": "code",
   "execution_count": 33,
   "metadata": {},
   "outputs": [],
   "source": [
    "import numpy as np\n",
    "import pandas as pd\n",
    "from matplotlib import pyplot as plt"
   ]
  },
  {
   "cell_type": "code",
   "execution_count": 13,
   "metadata": {},
   "outputs": [
    {
     "data": {
      "text/html": [
       "<div>\n",
       "<style scoped>\n",
       "    .dataframe tbody tr th:only-of-type {\n",
       "        vertical-align: middle;\n",
       "    }\n",
       "\n",
       "    .dataframe tbody tr th {\n",
       "        vertical-align: top;\n",
       "    }\n",
       "\n",
       "    .dataframe thead th {\n",
       "        text-align: right;\n",
       "    }\n",
       "</style>\n",
       "<table border=\"1\" class=\"dataframe\">\n",
       "  <thead>\n",
       "    <tr style=\"text-align: right;\">\n",
       "      <th></th>\n",
       "      <th>year</th>\n",
       "      <th>day</th>\n",
       "      <th>precip</th>\n",
       "      <th>templow</th>\n",
       "      <th>temphigh</th>\n",
       "    </tr>\n",
       "  </thead>\n",
       "  <tbody>\n",
       "    <tr>\n",
       "      <th>0</th>\n",
       "      <td>1960</td>\n",
       "      <td>1</td>\n",
       "      <td>0.00</td>\n",
       "      <td>34.0</td>\n",
       "      <td>48.0</td>\n",
       "    </tr>\n",
       "    <tr>\n",
       "      <th>1</th>\n",
       "      <td>1960</td>\n",
       "      <td>2</td>\n",
       "      <td>0.00</td>\n",
       "      <td>29.0</td>\n",
       "      <td>47.0</td>\n",
       "    </tr>\n",
       "    <tr>\n",
       "      <th>2</th>\n",
       "      <td>1960</td>\n",
       "      <td>3</td>\n",
       "      <td>0.00</td>\n",
       "      <td>38.0</td>\n",
       "      <td>53.0</td>\n",
       "    </tr>\n",
       "    <tr>\n",
       "      <th>3</th>\n",
       "      <td>1960</td>\n",
       "      <td>4</td>\n",
       "      <td>0.00</td>\n",
       "      <td>33.0</td>\n",
       "      <td>56.0</td>\n",
       "    </tr>\n",
       "    <tr>\n",
       "      <th>4</th>\n",
       "      <td>1960</td>\n",
       "      <td>5</td>\n",
       "      <td>0.00</td>\n",
       "      <td>35.0</td>\n",
       "      <td>52.0</td>\n",
       "    </tr>\n",
       "    <tr>\n",
       "      <th>...</th>\n",
       "      <td>...</td>\n",
       "      <td>...</td>\n",
       "      <td>...</td>\n",
       "      <td>...</td>\n",
       "      <td>...</td>\n",
       "    </tr>\n",
       "    <tr>\n",
       "      <th>22277</th>\n",
       "      <td>2020</td>\n",
       "      <td>363</td>\n",
       "      <td>0.02</td>\n",
       "      <td>47.0</td>\n",
       "      <td>56.0</td>\n",
       "    </tr>\n",
       "    <tr>\n",
       "      <th>22278</th>\n",
       "      <td>2020</td>\n",
       "      <td>364</td>\n",
       "      <td>0.00</td>\n",
       "      <td>41.0</td>\n",
       "      <td>61.0</td>\n",
       "    </tr>\n",
       "    <tr>\n",
       "      <th>22279</th>\n",
       "      <td>2020</td>\n",
       "      <td>365</td>\n",
       "      <td>0.04</td>\n",
       "      <td>40.0</td>\n",
       "      <td>57.0</td>\n",
       "    </tr>\n",
       "    <tr>\n",
       "      <th>22280</th>\n",
       "      <td>2020</td>\n",
       "      <td>366</td>\n",
       "      <td>0.03</td>\n",
       "      <td>47.0</td>\n",
       "      <td>60.0</td>\n",
       "    </tr>\n",
       "    <tr>\n",
       "      <th>22281</th>\n",
       "      <td>2021</td>\n",
       "      <td>1</td>\n",
       "      <td>0.00</td>\n",
       "      <td>43.0</td>\n",
       "      <td>60.0</td>\n",
       "    </tr>\n",
       "  </tbody>\n",
       "</table>\n",
       "<p>22262 rows × 5 columns</p>\n",
       "</div>"
      ],
      "text/plain": [
       "       year  day  precip  templow  temphigh\n",
       "0      1960    1    0.00     34.0      48.0\n",
       "1      1960    2    0.00     29.0      47.0\n",
       "2      1960    3    0.00     38.0      53.0\n",
       "3      1960    4    0.00     33.0      56.0\n",
       "4      1960    5    0.00     35.0      52.0\n",
       "...     ...  ...     ...      ...       ...\n",
       "22277  2020  363    0.02     47.0      56.0\n",
       "22278  2020  364    0.00     41.0      61.0\n",
       "22279  2020  365    0.04     40.0      57.0\n",
       "22280  2020  366    0.03     47.0      60.0\n",
       "22281  2021    1    0.00     43.0      60.0\n",
       "\n",
       "[22262 rows x 5 columns]"
      ]
     },
     "execution_count": 13,
     "metadata": {},
     "output_type": "execute_result"
    }
   ],
   "source": [
    "df = pd.read_csv('simplified-sfo-weather.csv')\n",
    "df = df.dropna(subset=['temphigh'])  # drop rows where temphigh is NA\n",
    "df"
   ]
  },
  {
   "cell_type": "code",
   "execution_count": 29,
   "metadata": {},
   "outputs": [],
   "source": [
    "def generate(data):\n",
    "    N = data.shape[0]\n",
    "    t = data['day'].to_numpy() \n",
    "\n",
    "    X = np.ones((N, 3))\n",
    "    X[:,1] = np.sin(2 * np.pi / 365 * (t-1))\n",
    "    X[:,2] = np.cos(2 * np.pi / 365 * (t-1))\n",
    "\n",
    "    Y = data['temphigh'].to_numpy()\n",
    "\n",
    "    return X, Y\n",
    "\n",
    "data = df[df['year']<1990]\n",
    "X, Y = generate(data)\n",
    "beta_hat = np.linalg.solve(X.T @ X, X.T @ Y)"
   ]
  },
  {
   "cell_type": "code",
   "execution_count": 32,
   "metadata": {},
   "outputs": [
    {
     "name": "stdout",
     "output_type": "stream",
     "text": [
      "mean actual high temp minus predicted for decade 1961-1970: -0.4275654508959994\n",
      "mean actual high temp minus predicted for decade 1971-1980: -0.4115153262151383\n",
      "mean actual high temp minus predicted for decade 1981-1990: 0.9015692698049863\n",
      "mean actual high temp minus predicted for decade 1991-2000: 0.5917696450413631\n",
      "mean actual high temp minus predicted for decade 2001-2010: 0.31942250091122953\n",
      "mean actual high temp minus predicted for decade 2011-2020: 1.8144859407148064\n"
     ]
    }
   ],
   "source": [
    "for i in [1961, 1971, 1981, 1991, 2001, 2011]:\n",
    "    test_data = df[(df['year'] >= i) & (df['year'] < i+10)]\n",
    "    test_X, test_Y = generate(test_data)\n",
    "    print(f'mean actual high temp minus predicted for decade {i}-{i+9}:', np.mean(test_Y - test_X @ beta_hat))"
   ]
  }
 ],
 "metadata": {
  "kernelspec": {
   "display_name": "Python 3.9.6 64-bit",
   "language": "python",
   "name": "python3"
  },
  "language_info": {
   "codemirror_mode": {
    "name": "ipython",
    "version": 3
   },
   "file_extension": ".py",
   "mimetype": "text/x-python",
   "name": "python",
   "nbconvert_exporter": "python",
   "pygments_lexer": "ipython3",
   "version": "3.10.9"
  },
  "orig_nbformat": 4,
  "vscode": {
   "interpreter": {
    "hash": "31f2aee4e71d21fbe5cf8b01ff0e069b9275f58929596ceb00d14d90e3e16cd6"
   }
  }
 },
 "nbformat": 4,
 "nbformat_minor": 2
}
