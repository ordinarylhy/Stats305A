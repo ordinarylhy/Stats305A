{
 "cells": [
  {
   "attachments": {},
   "cell_type": "markdown",
   "metadata": {},
   "source": [
    "etude 1\n",
    "\n",
    "(a)\n",
    "\n",
    "$\\Delta\\sim\\mathcal{N}(0, \\sigma^2((X_0^TX_0)^{-1}+(X_1^TX_1)^{-1}))$\n",
    "\n",
    "$\\delta\\sim\\mathcal{N}(0, \\sigma^2(2I-H_0-H_1))$\n",
    "\n",
    "(b)\n",
    "\n",
    "(c)\n",
    "\n",
    "$A = ((X_0^TX_0)^{-1}+(X_1^TX_1)^{-1})^{-\\frac{1}{2}}$\n",
    "\n",
    "\n",
    "Eigendecomposition: $2I-H_0-H_1=Q\\Lambda Q^T$\n",
    "\n",
    "$M = {\\Lambda^\\dagger}^{\\frac{1}{2}}Q^T$\n",
    "\n",
    "(d)\n",
    "\n",
    "$T=\\frac{\\frac{1}{d}\\|A\\Delta\\|_2^2}{\\frac{1}{n-r}\\|M\\delta\\|_2^2}\\sim F_{n-r}^d $\n",
    "\n",
    "(e)"
   ]
  },
  {
   "cell_type": "code",
   "execution_count": 34,
   "metadata": {},
   "outputs": [],
   "source": [
    "import numpy as np\n",
    "import pandas as pd\n",
    "from matplotlib import pyplot as plt\n",
    "from scipy.stats import f"
   ]
  },
  {
   "cell_type": "code",
   "execution_count": 6,
   "metadata": {},
   "outputs": [],
   "source": [
    "df = pd.read_csv('maybe-its-nonlinear.csv', header=None, sep=' ')\n",
    "X = df[[0, 1]].to_numpy()\n",
    "# X = np.insert(X, 0, 1, axis=1)  # insert all ones column to the data matrix\n",
    "y = df[2].to_numpy()"
   ]
  },
  {
   "cell_type": "code",
   "execution_count": 52,
   "metadata": {},
   "outputs": [],
   "source": [
    "def sample_from_sphere(d):  # sample a random point on the unit d-sphere\n",
    "    v = np.random.randn(d)\n",
    "    return v / np.linalg.norm(v)\n",
    "\n",
    "def random_projection_split(X):\n",
    "    n, d  = X.shape[0] // 2, X.shape[1]\n",
    "    v = sample_from_sphere(d)\n",
    "    S0 = np.argsort(X @ v)[:n]\n",
    "    S1 = np.argsort(X @ v)[n:]\n",
    "    return S0, S1\n",
    "\n",
    "def random_split(X):\n",
    "    n = len(X) // 2\n",
    "    permutation = np.random.permutation(len(X))\n",
    "    return permutation[:n], permutation[n:]"
   ]
  },
  {
   "cell_type": "code",
   "execution_count": 36,
   "metadata": {},
   "outputs": [],
   "source": [
    "def beta_hat(X, y):\n",
    "    return np.linalg.solve(X.T @ X, X.T @ y)\n",
    "    \n",
    "def hat_matrix(X):\n",
    "    return X @ np.linalg.solve(X.T @ X, X.T)"
   ]
  },
  {
   "cell_type": "code",
   "execution_count": 50,
   "metadata": {},
   "outputs": [],
   "source": [
    "def test(X, y, split, alpha=0.05):\n",
    "    # return False if reject, i.e. p value < alpha\n",
    "\n",
    "    n, d = X.shape[0] // 2, X.shape[1]\n",
    "    S0, S1 = split(X)\n",
    "    X0, X1 = X[S0], X[S1]\n",
    "    y0, y1 = y[S0], y[S1]\n",
    "\n",
    "    beta_hat0, beta_hat1 = beta_hat(X0, y0), beta_hat(X1, y1)\n",
    "    Delta =  beta_hat0 - beta_hat1\n",
    "\n",
    "    H0, H1 = hat_matrix(X0), hat_matrix(X1)\n",
    "    delta = (np.eye(n) - H0) @ y0 - (np.eye(n) - H1) @ y1\n",
    "\n",
    "    eigenvalues, Q = np.linalg.eigh(np.linalg.inv(X0.T @ X0) + np.linalg.inv(X1.T @ X1))\n",
    "    A = Q @ np.diag(1 / np.sqrt(eigenvalues)) @ Q.T\n",
    "\n",
    "    eigenvalues, Q = np.linalg.eigh(2 * np.eye(n) - H0 - H1)\n",
    "    M = np.diag(1 / np.sqrt(eigenvalues)) @ Q.T\n",
    "\n",
    "    T = (\n",
    "        (np.sum((A @ Delta) ** 2) / d) /\n",
    "        (np.sum((M @ delta) ** 2) / n)\n",
    "    )\n",
    "    \n",
    "    p_val = 1 - f.cdf(T, d, n)\n",
    "    \n",
    "    return p_val >= alpha"
   ]
  },
  {
   "cell_type": "code",
   "execution_count": 58,
   "metadata": {},
   "outputs": [],
   "source": [
    "reject0, reject1 = 0, 0\n",
    "for _ in range(1000):\n",
    "    reject0 += 1 - test(X, y, random_projection_split)\n",
    "    reject1 += 1 - test(X, y, random_split)"
   ]
  },
  {
   "cell_type": "code",
   "execution_count": 60,
   "metadata": {},
   "outputs": [
    {
     "name": "stdout",
     "output_type": "stream",
     "text": [
      "1.0 0.067\n"
     ]
    }
   ],
   "source": [
    "print(reject0 / 1000, reject1 / 1000)"
   ]
  },
  {
   "attachments": {},
   "cell_type": "markdown",
   "metadata": {},
   "source": [
    "The data exhibits nonlinearity by random hyperplane separation.\n",
    "\n",
    "If we split randomly, with  0.067 $\\approx\\alpha$ fraction of the time we reject."
   ]
  }
 ],
 "metadata": {
  "kernelspec": {
   "display_name": "Python 3.9.6 64-bit",
   "language": "python",
   "name": "python3"
  },
  "language_info": {
   "codemirror_mode": {
    "name": "ipython",
    "version": 3
   },
   "file_extension": ".py",
   "mimetype": "text/x-python",
   "name": "python",
   "nbconvert_exporter": "python",
   "pygments_lexer": "ipython3",
   "version": "3.10.9"
  },
  "orig_nbformat": 4,
  "vscode": {
   "interpreter": {
    "hash": "31f2aee4e71d21fbe5cf8b01ff0e069b9275f58929596ceb00d14d90e3e16cd6"
   }
  }
 },
 "nbformat": 4,
 "nbformat_minor": 2
}
